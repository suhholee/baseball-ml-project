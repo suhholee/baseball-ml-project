{
 "cells": [
  {
   "cell_type": "code",
   "execution_count": 42,
   "metadata": {},
   "outputs": [],
   "source": [
    "import pandas as pd\n",
    "import numpy as np\n",
    "import joblib\n",
    "import os\n",
    "import matplotlib.pyplot as plt\n",
    "import seaborn as sns\n",
    "\n",
    "MODEL_DIR = './models/final/'\n",
    "MODEL_PATH = os.path.join(MODEL_DIR, 'final_model.pkl')\n",
    "PREPROCESSOR_PATH = os.path.join(MODEL_DIR, 'preprocessor.pkl')\n",
    "MAPPING_PATH = './models/result_mapping.npy'"
   ]
  },
  {
   "cell_type": "code",
   "execution_count": 43,
   "metadata": {},
   "outputs": [
    {
     "name": "stdout",
     "output_type": "stream",
     "text": [
      "Model loaded successfully.\n",
      "Preprocessor loaded successfully.\n",
      "Label mapping loaded successfully: ['Extra-Base Hit' 'Home Run' 'Out' 'Single']\n"
     ]
    }
   ],
   "source": [
    "try:\n",
    "    if not os.path.exists(MODEL_PATH):\n",
    "        raise FileNotFoundError(f\"Model file not found at: {MODEL_PATH}\")\n",
    "    if not os.path.exists(PREPROCESSOR_PATH):\n",
    "        raise FileNotFoundError(f\"Preprocessor file not found at: {PREPROCESSOR_PATH}\")\n",
    "    if not os.path.exists(MAPPING_PATH):\n",
    "        raise FileNotFoundError(f\"Mapping file not found at: {MAPPING_PATH}\")\n",
    "    model = joblib.load(MODEL_PATH)\n",
    "    preprocessor = joblib.load(PREPROCESSOR_PATH)\n",
    "    label_mapping = np.load(MAPPING_PATH, allow_pickle=True)\n",
    "    print(\"Model loaded successfully.\")\n",
    "    print(\"Preprocessor loaded successfully.\")\n",
    "    print(\"Label mapping loaded successfully:\", label_mapping)\n",
    "except Exception as e:\n",
    "    print(f\"Error loading artifacts: {e}\")\n",
    "    raise SystemExit(\"Could not load necessary artifacts.\")"
   ]
  },
  {
   "cell_type": "code",
   "execution_count": 44,
   "metadata": {},
   "outputs": [],
   "source": [
    "# Pitch Characteristics\n",
    "pitch_velocity = 94.2\n",
    "perceived_velocity = 98.1\n",
    "spin_rate = 2350\n",
    "vertical_release = 5.9\n",
    "horizontal_release = -1.8 # Inside to RHB\n",
    "extension = 6.7\n",
    "px = -0.3 # Slightly inside\n",
    "pz = 2.8 # Belt high\n",
    "arm_angle = 15.0\n",
    "pitch_type = '4-Seam Fastball'\n",
    "\n",
    "# Swing Characteristics\n",
    "bat_speed = 50.1\n",
    "swing_length = 7.2"
   ]
  },
  {
   "cell_type": "code",
   "execution_count": 45,
   "metadata": {},
   "outputs": [],
   "source": [
    "inside_pitch = px < 0\n",
    "high_pitch = pz > 3.2\n",
    "low_pitch = pz < 2.0\n",
    "\n",
    "# Handle potential division by zero\n",
    "if swing_length != 0:\n",
    "    swing_efficiency_ratio = bat_speed / swing_length\n",
    "else:\n",
    "    swing_efficiency_ratio = 0\n",
    "\n",
    "speed_differential = bat_speed - pitch_velocity\n",
    "\n",
    "# Pitch Category\n",
    "fastball_types = ['4-Seam Fastball', '2-Seam Fastball', 'Cutter', 'Sinker', 'Split-Finger', 'Fastball']\n",
    "breaking_types = ['Slider', 'Sweeper', 'Curveball', 'Knuckle Curve', 'Slurve']\n",
    "offspeed_types = ['Changeup', 'Forkball', 'Eephus']\n",
    "\n",
    "if pitch_type in fastball_types:\n",
    "    pitch_category = 'Fastball'\n",
    "elif pitch_type in breaking_types:\n",
    "    pitch_category = 'Breaking'\n",
    "elif pitch_type in offspeed_types:\n",
    "    pitch_category = 'Offspeed'\n",
    "else:\n",
    "    pitch_category = 'Other'"
   ]
  },
  {
   "cell_type": "code",
   "execution_count": 46,
   "metadata": {},
   "outputs": [
    {
     "name": "stdout",
     "output_type": "stream",
     "text": [
      "Input DataFrame structure:\n",
      "<class 'pandas.core.frame.DataFrame'>\n",
      "RangeIndex: 1 entries, 0 to 0\n",
      "Data columns (total 18 columns):\n",
      " #   Column                  Non-Null Count  Dtype  \n",
      "---  ------                  --------------  -----  \n",
      " 0   pitch_velocity          1 non-null      float64\n",
      " 1   perceived_velocity      1 non-null      float64\n",
      " 2   spin_rate               1 non-null      int64  \n",
      " 3   vertical_release        1 non-null      float64\n",
      " 4   horizontal_release      1 non-null      float64\n",
      " 5   extension               1 non-null      float64\n",
      " 6   arm_angle               1 non-null      float64\n",
      " 7   px                      1 non-null      float64\n",
      " 8   pz                      1 non-null      float64\n",
      " 9   bat_speed               1 non-null      float64\n",
      " 10  swing_length            1 non-null      float64\n",
      " 11  swing_efficiency_ratio  1 non-null      float64\n",
      " 12  speed_differential      1 non-null      float64\n",
      " 13  inside_pitch            1 non-null      bool   \n",
      " 14  high_pitch              1 non-null      bool   \n",
      " 15  low_pitch               1 non-null      bool   \n",
      " 16  pitch_type              1 non-null      object \n",
      " 17  pitch_category          1 non-null      object \n",
      "dtypes: bool(3), float64(12), int64(1), object(2)\n",
      "memory usage: 251.0+ bytes\n",
      "None\n",
      "   pitch_velocity  perceived_velocity  spin_rate  vertical_release  \\\n",
      "0            94.2                98.1       2350               5.9   \n",
      "\n",
      "   horizontal_release  extension  arm_angle   px   pz  bat_speed  \\\n",
      "0                -1.8        6.7       15.0 -0.3  2.8       50.1   \n",
      "\n",
      "   swing_length  swing_efficiency_ratio  speed_differential  inside_pitch  \\\n",
      "0           7.2                6.958333               -44.1          True   \n",
      "\n",
      "   high_pitch  low_pitch       pitch_type pitch_category  \n",
      "0       False      False  4-Seam Fastball       Fastball  \n"
     ]
    }
   ],
   "source": [
    "input_data = {\n",
    "    # Numerical Features\n",
    "    'pitch_velocity': pitch_velocity,\n",
    "    'perceived_velocity': perceived_velocity,\n",
    "    'spin_rate': spin_rate,\n",
    "    'vertical_release': vertical_release,\n",
    "    'horizontal_release': horizontal_release,\n",
    "    'extension': extension,\n",
    "    'arm_angle': arm_angle,\n",
    "    'px': px,\n",
    "    'pz': pz,\n",
    "    'bat_speed': bat_speed,\n",
    "    'swing_length': swing_length,\n",
    "    'swing_efficiency_ratio': swing_efficiency_ratio,\n",
    "    'speed_differential': speed_differential,\n",
    "    'inside_pitch': inside_pitch,\n",
    "    'high_pitch': high_pitch,\n",
    "    'low_pitch': low_pitch,\n",
    "\n",
    "    # Categorical Features (verify order based on preprocessor.transformers_[1][2])\n",
    "    'pitch_type': pitch_type,\n",
    "    'pitch_category': pitch_category,\n",
    "}\n",
    "\n",
    "# Create DataFrame with a single row\n",
    "input_df = pd.DataFrame([input_data])\n",
    "print(\"Input DataFrame structure:\")\n",
    "print(input_df.info())\n",
    "print(input_df.head())"
   ]
  },
  {
   "cell_type": "code",
   "execution_count": 47,
   "metadata": {},
   "outputs": [
    {
     "name": "stdout",
     "output_type": "stream",
     "text": [
      "Preprocessing successful.\n"
     ]
    }
   ],
   "source": [
    "try:\n",
    "    input_processed = preprocessor.transform(input_df)\n",
    "    print(\"Preprocessing successful.\")\n",
    "except Exception as e:\n",
    "    print(f\"Error during preprocessing: {e}\")\n",
    "    raise SystemExit(\"Preprocessing failed.\")"
   ]
  },
  {
   "cell_type": "code",
   "execution_count": 48,
   "metadata": {},
   "outputs": [
    {
     "name": "stdout",
     "output_type": "stream",
     "text": [
      "\n",
      "--- Predicting Probabilities ---\n",
      "Prediction successful. prob: [0.12590372 0.07920424 0.3533804  0.44151164]\n"
     ]
    }
   ],
   "source": [
    "print(\"\\n--- Predicting Probabilities ---\")\n",
    "try:\n",
    "    probabilities = model.predict_proba(input_processed)[0]\n",
    "    print(f\"Prediction successful. prob: {probabilities}\")\n",
    "except Exception as e:\n",
    "    print(f\"Error during prediction: {e}\")\n",
    "    raise SystemExit(\"Prediction failed.\")"
   ]
  },
  {
   "cell_type": "code",
   "execution_count": null,
   "metadata": {},
   "outputs": [
    {
     "name": "stdout",
     "output_type": "stream",
     "text": [
      "          Outcome Probability (%)\n",
      "0          Single          44.15%\n",
      "1             Out          35.34%\n",
      "2  Extra-Base Hit          12.59%\n",
      "3        Home Run           7.92%\n"
     ]
    },
    {
     "data": {
      "image/png": "[encoded data removed]",
      "text/plain": [
       "<Figure size 1000x600 with 1 Axes>"
      ]
     },
     "metadata": {},
     "output_type": "display_data"
    }
   ],
   "source": [
    "if len(probabilities) == len(label_mapping):\n",
    "    results_df = pd.DataFrame({\n",
    "        'Outcome': label_mapping,\n",
    "        'Probability': probabilities\n",
    "    }).sort_values(by='Probability', ascending=False).reset_index(drop=True)\n",
    "    results_df['Probability (%)'] = results_df['Probability'].map(lambda x: f\"{x*100:.2f}%\")\n",
    "    print(results_df[['Outcome', 'Probability (%)']].to_string())\n",
    "    plt.figure(figsize=(10, 6))\n",
    "    sns.barplot(x='Probability', y='Outcome', data=results_df, palette='viridis')\n",
    "    plt.title('Predicted Outcome Probabilities')\n",
    "    plt.xlabel('Probability')\n",
    "    plt.ylabel('Outcome')\n",
    "    plt.gca().xaxis.set_major_formatter(plt.FuncFormatter('{:.0%}'.format))\n",
    "    for index, value in enumerate(results_df['Probability']):\n",
    "        plt.text(value + 0.01, index, f'{value*100:.1f}%', va='center')\n",
    "    plt.tight_layout()\n",
    "    plt.show()\n",
    "\n",
    "else:\n",
    "    print(f\"Error: Number of probabilities ({len(probabilities)}) does not match number of labels ({len(label_mapping)}).\")\n",
    "    print(\"Probabilities:\", probabilities)"
   ]
  },
  {
   "cell_type": "code",
   "execution_count": null,
   "metadata": {},
   "outputs": [],
   "source": []
  }
 ],
 "metadata": {
  "kernelspec": {
   "display_name": "baseball-ml",
   "language": "python",
   "name": "python3"
  },
  "language_info": {
   "codemirror_mode": {
    "name": "ipython",
    "version": 3
   },
   "file_extension": ".py",
   "mimetype": "text/x-python",
   "name": "python",
   "nbconvert_exporter": "python",
   "pygments_lexer": "ipython3",
   "version": "3.9.21"
  }
 },
 "nbformat": 4,
 "nbformat_minor": 2
}
